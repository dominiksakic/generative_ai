{
  "nbformat": 4,
  "nbformat_minor": 0,
  "metadata": {
    "colab": {
      "provenance": [],
      "gpuType": "T4",
      "authorship_tag": "ABX9TyNLk8Q36CREzto1JrRK4fxz",
      "include_colab_link": true
    },
    "kernelspec": {
      "name": "python3",
      "display_name": "Python 3"
    },
    "language_info": {
      "name": "python"
    },
    "accelerator": "GPU"
  },
  "cells": [
    {
      "cell_type": "markdown",
      "metadata": {
        "id": "view-in-github",
        "colab_type": "text"
      },
      "source": [
        "<a href=\"https://colab.research.google.com/github/dominiksakic/generative_ai/blob/main/GANs.ipynb\" target=\"_parent\"><img src=\"https://colab.research.google.com/assets/colab-badge.svg\" alt=\"Open In Colab\"/></a>"
      ]
    },
    {
      "cell_type": "code",
      "execution_count": null,
      "metadata": {
        "colab": {
          "base_uri": "https://localhost:8080/"
        },
        "id": "kwNASslefZxE",
        "outputId": "37a0721b-2973-4d0f-cd8a-c1829a0cddff"
      },
      "outputs": [
        {
          "output_type": "stream",
          "name": "stdout",
          "text": [
            "/usr/local/lib/python3.11/dist-packages/gdown/__main__.py:140: FutureWarning: Option `--id` was deprecated in version 4.3.1 and will be removed in 5.0. You don't need to pass it anymore to use a file ID.\n",
            "  warnings.warn(\n",
            "Downloading...\n",
            "From (original): https://drive.google.com/uc?id=1O7m1010EJjLE5QxLZiM9Fpjs7Oj6e684\n",
            "From (redirected): https://drive.google.com/uc?id=1O7m1010EJjLE5QxLZiM9Fpjs7Oj6e684&confirm=t&uuid=1db96025-1735-42c3-9961-daf749ae7b3c\n",
            "To: /content/celeba_gan/data.zip\n",
            "100% 1.44G/1.44G [00:25<00:00, 57.0MB/s]\n"
          ]
        }
      ],
      "source": [
        "!mkdir celeba_gan\n",
        "!gdown --id 1O7m1010EJjLE5QxLZiM9Fpjs7Oj6e684 -O celeba_gan/data.zip\n",
        "!unzip -qq celeba_gan/data.zip -d celeba_gan"
      ]
    },
    {
      "cell_type": "code",
      "source": [
        "import tensorflow as tf\n",
        "from tensorflow import keras\n",
        "dataset = keras.utils.image_dataset_from_directory(\n",
        "    \"celeba_gan\",\n",
        "    label_mode=None,\n",
        "    image_size=(64, 64),\n",
        "    batch_size=32,)\n",
        "\n",
        "dataset = dataset.map(lambda x: tf.image.resize(x, (64, 64)))\n",
        "dataset = dataset.map(lambda x: x / 255.)"
      ],
      "metadata": {
        "id": "uJfqGrwFffRF"
      },
      "execution_count": null,
      "outputs": []
    },
    {
      "cell_type": "code",
      "source": [
        "import matplotlib.pyplot as plt\n",
        "for x in dataset:\n",
        "  plt.axis(\"off\")\n",
        "  plt.imshow((x.numpy() * 255).astype(\"int32\")[0])\n",
        "  break"
      ],
      "metadata": {
        "id": "DneJdooQfsFl"
      },
      "execution_count": null,
      "outputs": []
    },
    {
      "cell_type": "code",
      "source": [
        "from tensorflow.keras import layers\n",
        "\n",
        "discriminator = keras.Sequential(\n",
        "    [\n",
        "        keras.Input(shape=(64, 64, 3)),\n",
        "        layers.Conv2D(64, kernel_size=4, strides=2, padding=\"same\"),\n",
        "        layers.LeakyReLU(alpha=0.2),\n",
        "        layers.Conv2D(128, kernel_size=4, strides=2, padding=\"same\"),\n",
        "        layers.LeakyReLU(alpha=0.2),\n",
        "        layers.Conv2D(128, kernel_size=4, strides=2, padding=\"same\"),\n",
        "        layers.LeakyReLU(alpha=0.2),\n",
        "        layers.Flatten(),\n",
        "        layers.Dropout(0.2),\n",
        "        layers.Dense(1, activation=\"sigmoid\"),\n",
        "    ],\n",
        "    name=\"discriminator\",\n",
        "    )\n",
        "\n",
        "discriminator.summary()"
      ],
      "metadata": {
        "id": "cHu11eDdgpkf"
      },
      "execution_count": null,
      "outputs": []
    },
    {
      "cell_type": "code",
      "source": [
        "latent_dim = 128\n",
        "\n",
        "generator = keras.Sequential(\n",
        "    [\n",
        "        keras.Input(shape=(latent_dim,)),\n",
        "        layers.Dense(8 * 8 * 128),\n",
        "        layers.Reshape((8, 8, 128)),\n",
        "        layers.Conv2DTranspose(128, kernel_size=4, strides=2, padding=\"same\"),\n",
        "        layers.LeakyReLU(alpha=0.2),\n",
        "        layers.Conv2DTranspose(256, kernel_size=4, strides=2, padding=\"same\"),\n",
        "        layers.LeakyReLU(alpha=0.2),\n",
        "        layers.Conv2DTranspose(512, kernel_size=4, strides=2, padding=\"same\"),\n",
        "        layers.LeakyReLU(alpha=0.2),\n",
        "        layers.Conv2D(3, kernel_size=5, padding=\"same\", activation=\"sigmoid\"),\n",
        "    ],\n",
        "    name=\"generator\",\n",
        ")\n",
        "\n",
        "generator.summary()"
      ],
      "metadata": {
        "id": "-GRau5Qfg37A"
      },
      "execution_count": null,
      "outputs": []
    },
    {
      "cell_type": "code",
      "source": [
        "class GAN(keras.Model):\n",
        "  def __init__(self, discriminator, generator, latent_dim):\n",
        "    super().__init__()\n",
        "    self.discriminator = discriminator\n",
        "    self.generator = generator\n",
        "    self.latent_dim = latent_dim\n",
        "    self.d_loss_metric = keras.metrics.Mean(name=\"d_loss\")\n",
        "    self.g_loss_metric = keras.metrics.Mean(name=\"g_loss\")\n",
        "\n",
        "  def compile(self, d_optimizer, g_optimizer, loss_fn):\n",
        "    super(GAN, self).compile()\n",
        "    self.d_optimizer = d_optimizer\n",
        "    self.g_optimizer = g_optimizer\n",
        "    self.loss_fn = loss_fn\n",
        "\n",
        "  @property\n",
        "  def metrics(self):\n",
        "    return [self.d_loss_metric, self.g_loss_metric]\n",
        "\n",
        "  def train_step(self, real_images):\n",
        "    batch_size = tf.shape(real_images)[0]\n",
        "    random_latent_vectors = tf.random.normal(\n",
        "        shape=(batch_size, self.latent_dim))\n",
        "    generated_images = self.generator(random_latent_vectors)\n",
        "    combined_images = tf.concat([generated_images, real_images], axis=0)\n",
        "    labels = tf.concat(\n",
        "        [tf.ones((batch_size, 1)), tf.zeros((batch_size, 1))],\n",
        "        axis=0)\n",
        "    labels += 0.05 * tf.random.uniform(tf.shape(labels))\n",
        "\n",
        "    with tf.GradientTape() as tape:\n",
        "      predictions = self.discriminator(combined_images)\n",
        "      d_loss = self.loss_fn(labels, predictions)\n",
        "\n",
        "    grads = tape.gradient(d_loss, self.discriminator.trainable_weights)\n",
        "    self.d_optimizer.apply_gradients(\n",
        "        zip(grads, self.discriminator.trainable_weights)\n",
        "        )\n",
        "\n",
        "    random_latent_vectors = tf.random.normal(\n",
        "        shape=(batch_size, self.latent_dim))\n",
        "\n",
        "    misleading_labels = tf.zeros((batch_size, 1))\n",
        "\n",
        "    with tf.GradientTape() as tape:\n",
        "      predictions = self.discriminator(\n",
        "          self.generator(random_latent_vectors))\n",
        "      g_loss = self.loss_fn(misleading_labels, predictions)\n",
        "    grads = tape.gradient(g_loss, self.generator.trainable_weights)\n",
        "    self.g_optimizer.apply_gradients(\n",
        "      zip(grads, self.generator.trainable_weights))\n",
        "\n",
        "    self.d_loss_metric.update_state(d_loss)\n",
        "    self.g_loss_metric.update_state(g_loss)\n",
        "    return {\"d_loss\": self.d_loss_metric.result(),\n",
        "            \"g_loss\": self.g_loss_metric.result()}"
      ],
      "metadata": {
        "id": "okviZb-ChUSa"
      },
      "execution_count": null,
      "outputs": []
    },
    {
      "cell_type": "code",
      "source": [
        "class GANMonitor(keras.callbacks.Callback):\n",
        "  def __init__(self, num_img=3, latent_dim=128):\n",
        "    self.num_img = num_img\n",
        "    self.latent_dim = latent_dim\n",
        "\n",
        "  def on_epoch_end(self, epoch, logs=None):\n",
        "    random_latent_vectors = tf.random.normal(\n",
        "        shape=(self.num_img, self.latent_dim))\n",
        "    generated_images = self.model.generator(random_latent_vectors)\n",
        "    generated_images *= 255\n",
        "    generated_images.numpy()\n",
        "\n",
        "    for i in range(self.num_img):\n",
        "      img = keras.utils.array_to_img(generated_images[i])\n",
        "      img.save(f\"generated_img_{epoch:03d}_{i}.png\")"
      ],
      "metadata": {
        "id": "jPTbUM8QiPqa"
      },
      "execution_count": null,
      "outputs": []
    },
    {
      "cell_type": "code",
      "source": [
        "epochs = 100\n",
        "\n",
        "gan = GAN(\n",
        "    discriminator=discriminator,\n",
        "    generator=generator,\n",
        "    latent_dim=latent_dim)\n",
        "\n",
        "gan.compile(\n",
        "  d_optimizer=keras.optimizers.Adam(learning_rate=0.0001),\n",
        "  g_optimizer=keras.optimizers.Adam(learning_rate=0.0001),\n",
        "  loss_fn=keras.losses.BinaryCrossentropy(),\n",
        ")\n",
        "\n",
        "gan.fit(\n",
        "  dataset, epochs=epochs,\n",
        "  callbacks=[GANMonitor(num_img=10, latent_dim=latent_dim)]\n",
        ")"
      ],
      "metadata": {
        "id": "KafTGrVTie8A"
      },
      "execution_count": null,
      "outputs": []
    }
  ]
}